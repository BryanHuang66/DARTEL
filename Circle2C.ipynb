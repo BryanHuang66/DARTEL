{
 "cells": [
  {
   "cell_type": "code",
   "execution_count": 1,
   "metadata": {},
   "outputs": [],
   "source": [
    "import torch\n",
    "import torch.nn as nn\n",
    "from PIL import Image\n",
    "import numpy as np"
   ]
  },
  {
   "cell_type": "markdown",
   "metadata": {},
   "source": [
    "## LM-Algorithm"
   ]
  },
  {
   "cell_type": "code",
   "execution_count": 2,
   "metadata": {},
   "outputs": [
    {
     "name": "stderr",
     "output_type": "stream",
     "text": [
      "/Users/creative/opt/anaconda3/envs/LKF/lib/python3.8/site-packages/tqdm/auto.py:21: TqdmWarning: IProgress not found. Please update jupyter and ipywidgets. See https://ipywidgets.readthedocs.io/en/stable/user_install.html\n",
      "  from .autonotebook import tqdm as notebook_tqdm\n"
     ]
    }
   ],
   "source": [
    "import torch\n",
    "from tqdm.auto import tqdm\n",
    "import numpy as np\n",
    "\n",
    "# Set constant below to True if no GPU should be used. Otherwise, GPU will be used by default if exists.\n",
    "CPU_ONLY = False\n",
    "# If CLUSTER is False, progress bars are shown via tqdm. Otherwise, they are surpressed to reduce stdout.\n",
    "CLUSTER = False\n",
    "\n",
    "\n",
    "def track(iterator, **kwargs):\n",
    "    if not CLUSTER:\n",
    "        return tqdm(iterator, **kwargs)\n",
    "    else:\n",
    "        return iterator"
   ]
  },
  {
   "cell_type": "code",
   "execution_count": 3,
   "metadata": {},
   "outputs": [],
   "source": [
    "def z_score_normalize(input_tensor):\n",
    "    mean = torch.mean(input_tensor)  # 计算均值\n",
    "    std = torch.std(input_tensor)  # 计算标准差\n",
    "    normalized_tensor = (input_tensor - mean) / std  # 标准化\n",
    "    return normalized_tensor"
   ]
  },
  {
   "cell_type": "code",
   "execution_count": 4,
   "metadata": {},
   "outputs": [
    {
     "name": "stdout",
     "output_type": "stream",
     "text": [
      "circle_image.shape:  torch.Size([1, 1, 32, 32])\n",
      "c_image.shape:  torch.Size([1, 1, 32, 32])\n"
     ]
    }
   ],
   "source": [
    "# 1. Load image\n",
    "resize_shape = 32\n",
    "circle_image = Image.open('./data/circle2C/circle.png').convert('L').resize((resize_shape,resize_shape))\n",
    "c_image = Image.open('./data/circle2C/C.png').convert('L').resize((resize_shape,resize_shape))\n",
    "# c_image = Image.open('./data/circle2C/ring.png').convert('L').resize((resize_shape,resize_shape))\n",
    "circle_image=torch.from_numpy(np.array(circle_image)).float().unsqueeze(0).unsqueeze(0)\n",
    "c_image=torch.from_numpy(np.array(c_image)).float().unsqueeze(0).unsqueeze(0)\n",
    "circle_image = z_score_normalize(circle_image)\n",
    "c_image = z_score_normalize(c_image)\n",
    "print(\"circle_image.shape: \", circle_image.shape)\n",
    "print(\"c_image.shape: \", c_image.shape)"
   ]
  },
  {
   "cell_type": "markdown",
   "metadata": {},
   "source": [
    "### Elastic kernel"
   ]
  },
  {
   "cell_type": "code",
   "execution_count": 5,
   "metadata": {},
   "outputs": [],
   "source": [
    "import numpy as np\n",
    "from scipy.sparse import coo_matrix, bmat\n",
    "\n",
    "\n",
    "def conv_kernel_2_sparse_mat(conv_kernel, height, width):\n",
    "    # 初始化稀疏矩阵的数据列表\n",
    "    rows, cols, data = [], [], []\n",
    "    offsets = [(-1, -1), (-1, 0), (-1, 1), (0, -1), (0, 0), (0, 1), (1, -1), (1, 0), (1, 1)]\n",
    "    \n",
    "    for i in range(height):\n",
    "        for j in range(width):\n",
    "            img_idx = i * width + j  # 计算当前像素在展平向量中的索引\n",
    "            \n",
    "            for k, (di, dj) in enumerate(offsets):\n",
    "                # 计算卷积核偏移位置的行列索引，使用wrap边界条件\n",
    "                ni = (i + di) % height\n",
    "                nj = (j + dj) % width\n",
    "                neighbor_idx = ni * width + nj  # 相邻像素的展平索引\n",
    "                \n",
    "                # 保存索引和卷积核值\n",
    "                rows.append(img_idx)\n",
    "                cols.append(neighbor_idx)\n",
    "                data.append(conv_kernel[di + 1, dj + 1])  # 卷积核值\n",
    "                \n",
    "    # 构造稀疏矩阵，形状为 (height * width, height * width)\n",
    "    conv_sparse_matrix = coo_matrix((data, (rows, cols)), shape=(height * width, height * width))\n",
    "    return conv_sparse_matrix\n",
    "\n",
    "\n",
    "def elastic_energy_sparse_matrix(height, width, mu=2, lam=1, delta_height=1, delta_width=1):\n",
    "    matrix_26 = np.array([\n",
    "        [0, -(2*mu + lam) * delta_height**-2, 0],\n",
    "        [-mu * delta_width**-2, mu * (4 * delta_height**-2 + 2 * delta_width**-2) + 2 * lam * delta_height**-2, -mu * delta_width**-2],\n",
    "        [0, -(2*mu + lam) * delta_height**-2, 0]\n",
    "    ])\n",
    "    # print(matrix_26)\n",
    "    matrix_27 = np.array([\n",
    "        [-(mu + lam) / 4 * delta_height**-1 * delta_width**-1, 0, (mu + lam) / 4 * delta_height**-1 * delta_width**-1],\n",
    "        [0, 0, 0],\n",
    "        [(mu + lam) / 4 * delta_height**-1 * delta_width**-1, 0, -(mu + lam) / 4 * delta_height**-1 * delta_width**-1]\n",
    "    ])\n",
    "    # print(matrix_27)\n",
    "    matrix_28 = np.array([\n",
    "        [0, -mu * delta_height**-2, 0],\n",
    "        [-(2*mu + lam) * delta_width**-2, mu * (4 * delta_width**-2 + 2 * delta_height**-2) + 2 * lam * delta_width**-2, -(2*mu + lam) * delta_width**-2],\n",
    "        [0, -mu * delta_height**-2, 0]\n",
    "    ])\n",
    "    # print(matrix_28)\n",
    "    # 将卷积矩阵转换为稀疏矩阵\n",
    "    matrix_26_sparse = conv_kernel_2_sparse_mat(matrix_26, height, width)\n",
    "    matrix_27_sparse = conv_kernel_2_sparse_mat(matrix_27, height, width)\n",
    "    matrix_28_sparse = conv_kernel_2_sparse_mat(matrix_28, height, width)\n",
    "    \n",
    "    # 使用 bmat 构造稀疏矩阵 block\n",
    "    matrix_H = bmat([\n",
    "        [matrix_28_sparse, matrix_27_sparse],\n",
    "        [matrix_27_sparse, matrix_26_sparse]\n",
    "    ], format='coo')\n",
    "    \n",
    "    return matrix_H\n"
   ]
  },
  {
   "cell_type": "code",
   "execution_count": 6,
   "metadata": {},
   "outputs": [
    {
     "data": {
      "text/plain": [
       "<matplotlib.image.AxesImage at 0x7f924f26e340>"
      ]
     },
     "execution_count": 6,
     "metadata": {},
     "output_type": "execute_result"
    },
    {
     "data": {
      "image/png": "[encoded data removed]",
      "text/plain": [
       "<Figure size 640x480 with 1 Axes>"
      ]
     },
     "metadata": {},
     "output_type": "display_data"
    }
   ],
   "source": [
    "## plot H matrix，展示稀疏矩阵的结构\n",
    "b = elastic_energy_sparse_matrix(6,6).toarray()\n",
    "import matplotlib.pyplot as plt\n",
    "plt.imshow(-b, cmap='gray')"
   ]
  },
  {
   "cell_type": "code",
   "execution_count": 7,
   "metadata": {},
   "outputs": [],
   "source": [
    "a = elastic_energy_sparse_matrix(resize_shape,resize_shape).toarray()"
   ]
  },
  {
   "cell_type": "markdown",
   "metadata": {},
   "source": [
    "### Hessian"
   ]
  },
  {
   "cell_type": "code",
   "execution_count": 8,
   "metadata": {},
   "outputs": [],
   "source": [
    "import torch\n",
    "\n",
    "def approximate_hessian(func, inputs, epsilon=1e-7):\n",
    "    \"\"\"\n",
    "    Approximate the Hessian matrix using finite differences.\n",
    "    func: Forward pass function that computes the loss.\n",
    "    inputs: Tensor to compute the Hessian for.\n",
    "    epsilon: Perturbation size.\n",
    "    \"\"\"\n",
    "    # Compute the initial gradient\n",
    "    initial_grad = torch.autograd.grad(func(inputs), inputs, create_graph=True)[0]\n",
    "\n",
    "    length_x = inputs.numel() // 2\n",
    "\n",
    "    perturbed_inputs = inputs.clone()\n",
    "\n",
    "    # Perturb the first half of the inputs\n",
    "    perturbed_inputs.view(-1)[:length_x] += epsilon\n",
    "\n",
    "    # Compute the perturbed gradients\n",
    "    perturbed_grad = torch.autograd.grad(func(perturbed_inputs), perturbed_inputs, create_graph=True)[0]\n",
    "\n",
    "    # Compute the Hessian for the first block (A)\n",
    "    hessian_column_x = (perturbed_grad - initial_grad).view(-1) / epsilon\n",
    "\n",
    "    perturbed_inputs = inputs.clone()\n",
    "\n",
    "    # Perturb the second half of the inputs\n",
    "    perturbed_inputs.view(-1)[length_x:] += epsilon\n",
    "\n",
    "    # Compute the perturbed gradients\n",
    "    perturbed_grad = torch.autograd.grad(func(perturbed_inputs), perturbed_inputs, create_graph=True)[0]\n",
    "\n",
    "    # Compute the Hessian for the second block (D)\n",
    "    hessian_column_y = (perturbed_grad - initial_grad).view(-1) / epsilon\n",
    "\n",
    "    # Now we want to form the block diagonal Hessian matrix:\n",
    "    # Block structure: \n",
    "    # [Diag(A), Diag(C); Diag(B), Diag(D)]\n",
    "    A = hessian_column_x[:length_x]\n",
    "    B = hessian_column_x[length_x:]\n",
    "    C = hessian_column_y[:length_x]\n",
    "    D = hessian_column_y[length_x:]\n",
    "\n",
    "    # Create the block diagonal Hessian matrix\n",
    "    hessian_matrix = torch.zeros(2 * length_x, 2 * length_x, device=inputs.device)\n",
    "\n",
    "    # Diagonal blocks (A, D) on the diagonal\n",
    "    hessian_matrix[:length_x, :length_x] = torch.diag(A)\n",
    "    hessian_matrix[length_x:, length_x:] = torch.diag(D)\n",
    "\n",
    "    # Off-diagonal blocks (B, C)\n",
    "    hessian_matrix[:length_x, length_x:] = torch.diag(B)\n",
    "    hessian_matrix[length_x:, :length_x] = torch.diag(C)\n",
    "\n",
    "    hessian_matrix = (hessian_matrix + hessian_matrix.t()) / 2\n",
    "    return hessian_matrix\n"
   ]
  },
  {
   "cell_type": "code",
   "execution_count": 10,
   "metadata": {},
   "outputs": [],
   "source": [
    "from register.SpatialTransformer2 import SpatialTransformer2\n",
    "## 判断a是不是numpy\n",
    "if isinstance(a,np.ndarray):\n",
    "     a=torch.from_numpy(a).float()  # 转换为tensor\n",
    "device=torch.device(\"cpu\")  # 使用GPU\n",
    "model=SpatialTransformer2(circle_image.shape[2:],10)  # 生成模型\n",
    "circle_image=circle_image.to(device)\n",
    "c_image=c_image.to(device)\n",
    "model=model.to(device)\n",
    "a = a.to(device)\n",
    "loss_fn=nn.MSELoss(reduction='sum')   # MSE作为loss\n",
    "basic_flow_shape = model.basic_flows.shape\n",
    "\n",
    "## 超参数\n",
    "eta = 1\n",
    "eye_matrix = eta * torch.eye(2 * resize_shape ** 2).to(device)"
   ]
  },
  {
   "cell_type": "code",
   "execution_count": 23,
   "metadata": {},
   "outputs": [
    {
     "name": "stderr",
     "output_type": "stream",
     "text": [
      "Model update loop, loss: 0.93:   0%|          | 0/300 [00:00<?, ?it/s]"
     ]
    },
    {
     "name": "stderr",
     "output_type": "stream",
     "text": [
      "                                                                               \r"
     ]
    },
    {
     "ename": "KeyboardInterrupt",
     "evalue": "",
     "output_type": "error",
     "traceback": [
      "\u001b[0;31m---------------------------------------------------------------------------\u001b[0m",
      "\u001b[0;31mKeyboardInterrupt\u001b[0m                         Traceback (most recent call last)",
      "Cell \u001b[0;32mIn[23], line 13\u001b[0m\n\u001b[1;32m     10\u001b[0m      loss \u001b[38;5;241m=\u001b[39m loss_fn(model(circle_image,flows), c_image) \u001b[38;5;241m/\u001b[39m\u001b[38;5;241m2\u001b[39m\n\u001b[1;32m     11\u001b[0m      \u001b[38;5;28;01mreturn\u001b[39;00m loss\n\u001b[0;32m---> 13\u001b[0m hess \u001b[38;5;241m=\u001b[39m \u001b[43mapproximate_hessian\u001b[49m\u001b[43m(\u001b[49m\u001b[43mhessian_forward\u001b[49m\u001b[43m,\u001b[49m\u001b[43m \u001b[49m\u001b[43mmodel\u001b[49m\u001b[38;5;241;43m.\u001b[39;49m\u001b[43mbasic_flows\u001b[49m\u001b[43m)\u001b[49m\n\u001b[1;32m     14\u001b[0m \u001b[38;5;66;03m# print(hess.sum())\u001b[39;00m\n\u001b[1;32m     15\u001b[0m \u001b[38;5;28;01mwith\u001b[39;00m torch\u001b[38;5;241m.\u001b[39mno_grad():\n",
      "\u001b[0;31mKeyboardInterrupt\u001b[0m: "
     ]
    }
   ],
   "source": [
    "t = track(range(300), leave=False, desc=\"Epoch iteration\")\n",
    "for i in  t:\n",
    "    loss=loss_fn(model(circle_image), c_image)   # 计算loss\n",
    "    if hasattr(t, \"set_description\"):\n",
    "            t.set_description(\"Model update loop, loss: %4.2f\" % (loss/circle_image.numel()))\n",
    "\n",
    "    loss.backward(retain_graph=True)\n",
    "    grad = model.basic_flows.grad.view(-1, 1)\n",
    "    def hessian_forward(flows):\n",
    "         loss = loss_fn(model(circle_image,flows), c_image) /2\n",
    "         return loss\n",
    "\n",
    "    hess = approximate_hessian(hessian_forward, model.basic_flows)\n",
    "    # print(hess.sum())\n",
    "    with torch.no_grad():\n",
    "        model.basic_flows.data  = (model.basic_flows.view(-1,1) - torch.linalg.solve(a+hess+eye_matrix, grad + a @ model.basic_flows.view(-1, 1))).view(*basic_flow_shape)"
   ]
  },
  {
   "cell_type": "code",
   "execution_count": 30,
   "metadata": {},
   "outputs": [
    {
     "data": {
      "text/plain": [
       "torch.Size([1, 2, 32, 32])"
      ]
     },
     "execution_count": 30,
     "metadata": {},
     "output_type": "execute_result"
    }
   ],
   "source": [
    "basic_flow_shape"
   ]
  },
  {
   "cell_type": "code",
   "execution_count": 12,
   "metadata": {},
   "outputs": [],
   "source": [
    "predict_image=model(circle_image) "
   ]
  },
  {
   "cell_type": "code",
   "execution_count": 13,
   "metadata": {},
   "outputs": [
    {
     "data": {
      "image/png": "[encoded data removed]",
      "text/plain": [
       "<Figure size 600x500 with 2 Axes>"
      ]
     },
     "metadata": {},
     "output_type": "display_data"
    },
    {
     "data": {
      "text/plain": [
       "tensor(6.8816, device='cuda:3', grad_fn=<MseLossBackward0>)"
      ]
     },
     "execution_count": 13,
     "metadata": {},
     "output_type": "execute_result"
    }
   ],
   "source": [
    "import torch\n",
    "import numpy as np\n",
    "import matplotlib.pyplot as plt\n",
    "\n",
    "# 创建一个示例的 2D 张量\n",
    "tensor_2d = torch.rand(10, 10)  # 创建 10x10 的随机张量\n",
    "\n",
    "# 将 PyTorch 张量转换为 NumPy 数组\n",
    "\n",
    "# 绘制热力图\n",
    "plt.figure(figsize=(6, 5))\n",
    "plt.imshow(predict_image.squeeze().cpu().detach().numpy(), cmap='viridis', aspect='auto')\n",
    "plt.colorbar(label='Intensity')\n",
    "plt.title('2D Array Heatmap')\n",
    "plt.xlabel('X-axis')\n",
    "plt.ylabel('Y-axis')\n",
    "plt.show()\n",
    "loss"
   ]
  },
  {
   "cell_type": "markdown",
   "metadata": {},
   "source": [
    "## Adam Optimizer"
   ]
  },
  {
   "cell_type": "code",
   "execution_count": 27,
   "metadata": {},
   "outputs": [
    {
     "name": "stderr",
     "output_type": "stream",
     "text": [
      "/Users/creative/opt/anaconda3/envs/pytorch-nightly/lib/python3.8/site-packages/torch/optim/optimizer.py:243: UserWarning: 'has_cuda' is deprecated, please use 'torch.backends.cuda.is_built()'\n",
      "  if not is_compiling() and torch.has_cuda and torch.cuda.is_available():\n"
     ]
    },
    {
     "name": "stdout",
     "output_type": "stream",
     "text": [
      "199  loss(with reg):  tensor(0.4658, grad_fn=<AddBackward0>)\n",
      "399  loss(with reg):  tensor(0.2359, grad_fn=<AddBackward0>)\n",
      "599  loss(with reg):  tensor(0.1100, grad_fn=<AddBackward0>)\n",
      "799  loss(with reg):  tensor(0.0916, grad_fn=<AddBackward0>)\n",
      "999  loss(with reg):  tensor(0.0827, grad_fn=<AddBackward0>)\n",
      "1199  loss(with reg):  tensor(0.0772, grad_fn=<AddBackward0>)\n",
      "1399  loss(with reg):  tensor(0.0738, grad_fn=<AddBackward0>)\n",
      "1599  loss(with reg):  tensor(0.0709, grad_fn=<AddBackward0>)\n",
      "1799  loss(with reg):  tensor(0.0689, grad_fn=<AddBackward0>)\n",
      "1999  loss(with reg):  tensor(0.0671, grad_fn=<AddBackward0>)\n",
      "2199  loss(with reg):  tensor(0.0653, grad_fn=<AddBackward0>)\n"
     ]
    },
    {
     "ename": "KeyboardInterrupt",
     "evalue": "",
     "output_type": "error",
     "traceback": [
      "\u001b[0;31m---------------------------------------------------------------------------\u001b[0m",
      "\u001b[0;31mKeyboardInterrupt\u001b[0m                         Traceback (most recent call last)",
      "Cell \u001b[0;32mIn[27], line 22\u001b[0m\n\u001b[1;32m     19\u001b[0m     \u001b[38;5;28mprint\u001b[39m(i, \u001b[38;5;124m\"\u001b[39m\u001b[38;5;124m loss(with reg): \u001b[39m\u001b[38;5;124m\"\u001b[39m, loss)  \u001b[38;5;66;03m# 打印loss\u001b[39;00m\n\u001b[1;32m     21\u001b[0m opt\u001b[38;5;241m.\u001b[39mzero_grad()  \u001b[38;5;66;03m# 梯度清零\u001b[39;00m\n\u001b[0;32m---> 22\u001b[0m \u001b[43mloss\u001b[49m\u001b[38;5;241;43m.\u001b[39;49m\u001b[43mbackward\u001b[49m\u001b[43m(\u001b[49m\u001b[43mretain_graph\u001b[49m\u001b[38;5;241;43m=\u001b[39;49m\u001b[38;5;28;43;01mTrue\u001b[39;49;00m\u001b[43m)\u001b[49m  \u001b[38;5;66;03m# 反向传播\u001b[39;00m\n\u001b[1;32m     23\u001b[0m opt\u001b[38;5;241m.\u001b[39mstep()  \u001b[38;5;66;03m# 更新参数\u001b[39;00m\n",
      "File \u001b[0;32m~/opt/anaconda3/envs/pytorch-nightly/lib/python3.8/site-packages/torch/_tensor.py:491\u001b[0m, in \u001b[0;36mTensor.backward\u001b[0;34m(self, gradient, retain_graph, create_graph, inputs)\u001b[0m\n\u001b[1;32m    481\u001b[0m \u001b[38;5;28;01mif\u001b[39;00m has_torch_function_unary(\u001b[38;5;28mself\u001b[39m):\n\u001b[1;32m    482\u001b[0m     \u001b[38;5;28;01mreturn\u001b[39;00m handle_torch_function(\n\u001b[1;32m    483\u001b[0m         Tensor\u001b[38;5;241m.\u001b[39mbackward,\n\u001b[1;32m    484\u001b[0m         (\u001b[38;5;28mself\u001b[39m,),\n\u001b[0;32m   (...)\u001b[0m\n\u001b[1;32m    489\u001b[0m         inputs\u001b[38;5;241m=\u001b[39minputs,\n\u001b[1;32m    490\u001b[0m     )\n\u001b[0;32m--> 491\u001b[0m \u001b[43mtorch\u001b[49m\u001b[38;5;241;43m.\u001b[39;49m\u001b[43mautograd\u001b[49m\u001b[38;5;241;43m.\u001b[39;49m\u001b[43mbackward\u001b[49m\u001b[43m(\u001b[49m\n\u001b[1;32m    492\u001b[0m \u001b[43m    \u001b[49m\u001b[38;5;28;43mself\u001b[39;49m\u001b[43m,\u001b[49m\u001b[43m \u001b[49m\u001b[43mgradient\u001b[49m\u001b[43m,\u001b[49m\u001b[43m \u001b[49m\u001b[43mretain_graph\u001b[49m\u001b[43m,\u001b[49m\u001b[43m \u001b[49m\u001b[43mcreate_graph\u001b[49m\u001b[43m,\u001b[49m\u001b[43m \u001b[49m\u001b[43minputs\u001b[49m\u001b[38;5;241;43m=\u001b[39;49m\u001b[43minputs\u001b[49m\n\u001b[1;32m    493\u001b[0m \u001b[43m\u001b[49m\u001b[43m)\u001b[49m\n",
      "File \u001b[0;32m~/opt/anaconda3/envs/pytorch-nightly/lib/python3.8/site-packages/torch/autograd/__init__.py:204\u001b[0m, in \u001b[0;36mbackward\u001b[0;34m(tensors, grad_tensors, retain_graph, create_graph, grad_variables, inputs)\u001b[0m\n\u001b[1;32m    199\u001b[0m     retain_graph \u001b[38;5;241m=\u001b[39m create_graph\n\u001b[1;32m    201\u001b[0m \u001b[38;5;66;03m# The reason we repeat the same comment below is that\u001b[39;00m\n\u001b[1;32m    202\u001b[0m \u001b[38;5;66;03m# some Python versions print out the first line of a multi-line function\u001b[39;00m\n\u001b[1;32m    203\u001b[0m \u001b[38;5;66;03m# calls in the traceback and some print out the last line\u001b[39;00m\n\u001b[0;32m--> 204\u001b[0m \u001b[43mVariable\u001b[49m\u001b[38;5;241;43m.\u001b[39;49m\u001b[43m_execution_engine\u001b[49m\u001b[38;5;241;43m.\u001b[39;49m\u001b[43mrun_backward\u001b[49m\u001b[43m(\u001b[49m\u001b[43m  \u001b[49m\u001b[38;5;66;43;03m# Calls into the C++ engine to run the backward pass\u001b[39;49;00m\n\u001b[1;32m    205\u001b[0m \u001b[43m    \u001b[49m\u001b[43mtensors\u001b[49m\u001b[43m,\u001b[49m\u001b[43m \u001b[49m\u001b[43mgrad_tensors_\u001b[49m\u001b[43m,\u001b[49m\u001b[43m \u001b[49m\u001b[43mretain_graph\u001b[49m\u001b[43m,\u001b[49m\u001b[43m \u001b[49m\u001b[43mcreate_graph\u001b[49m\u001b[43m,\u001b[49m\u001b[43m \u001b[49m\u001b[43minputs\u001b[49m\u001b[43m,\u001b[49m\n\u001b[1;32m    206\u001b[0m \u001b[43m    \u001b[49m\u001b[43mallow_unreachable\u001b[49m\u001b[38;5;241;43m=\u001b[39;49m\u001b[38;5;28;43;01mTrue\u001b[39;49;00m\u001b[43m,\u001b[49m\u001b[43m \u001b[49m\u001b[43maccumulate_grad\u001b[49m\u001b[38;5;241;43m=\u001b[39;49m\u001b[38;5;28;43;01mTrue\u001b[39;49;00m\u001b[43m)\u001b[49m\n",
      "\u001b[0;31mKeyboardInterrupt\u001b[0m: "
     ]
    }
   ],
   "source": [
    "from register.SpatialTransformer2 import SpatialTransformer2\n",
    "from register.LocalDisplacementEnergy import BendingEnergy\n",
    "\n",
    "model=SpatialTransformer2(circle_image.shape[2:],10)  # 生成模型\n",
    "device=torch.device(\"cpu\")  # 使用GPU\n",
    "circle_image=circle_image.to(device)\n",
    "c_image=c_image.to(device)\n",
    "model=model.to(device)\n",
    "opt=torch.optim.Adam(model.parameters(), lr=0.05)  # Adam优化器\n",
    "loss_fn=nn.MSELoss()   # MSE作为loss\n",
    "bending_energy = BendingEnergy(alpha=1, dimension=2)  # 弯曲能量作为正则项\n",
    "\n",
    "for i in range(20000):\n",
    "    loss=loss_fn(model(circle_image), c_image)  # 计算loss\n",
    "    flows=[flows for flows in model.parameters()][0]  # 获取流场\n",
    "    loss += bending_energy(flows)  # 加上正则项\n",
    "\n",
    "    if (i + 1) % 200 == 0:\n",
    "        print(i, \" loss(with reg): \", loss)  # 打印loss\n",
    "\n",
    "    opt.zero_grad()  # 梯度清零\n",
    "    loss.backward(retain_graph=True)  # 反向传播\n",
    "    opt.step()  # 更新参数"
   ]
  },
  {
   "cell_type": "code",
   "execution_count": 8,
   "metadata": {},
   "outputs": [
    {
     "name": "stdout",
     "output_type": "stream",
     "text": [
      "20199  loss(with reg):  tensor(0.0066, device='cuda:1', grad_fn=<AddBackward0>)\n",
      "20399  loss(with reg):  tensor(0.0065, device='cuda:1', grad_fn=<AddBackward0>)\n",
      "20599  loss(with reg):  tensor(0.0064, device='cuda:1', grad_fn=<AddBackward0>)\n",
      "20799  loss(with reg):  tensor(0.0064, device='cuda:1', grad_fn=<AddBackward0>)\n",
      "20999  loss(with reg):  tensor(0.0062, device='cuda:1', grad_fn=<AddBackward0>)\n",
      "21199  loss(with reg):  tensor(0.0062, device='cuda:1', grad_fn=<AddBackward0>)\n",
      "21399  loss(with reg):  tensor(0.0061, device='cuda:1', grad_fn=<AddBackward0>)\n",
      "21599  loss(with reg):  tensor(0.0060, device='cuda:1', grad_fn=<AddBackward0>)\n",
      "21799  loss(with reg):  tensor(0.0058, device='cuda:1', grad_fn=<AddBackward0>)\n",
      "21999  loss(with reg):  tensor(0.0058, device='cuda:1', grad_fn=<AddBackward0>)\n",
      "22199  loss(with reg):  tensor(0.0057, device='cuda:1', grad_fn=<AddBackward0>)\n",
      "22399  loss(with reg):  tensor(0.0056, device='cuda:1', grad_fn=<AddBackward0>)\n",
      "22599  loss(with reg):  tensor(0.0056, device='cuda:1', grad_fn=<AddBackward0>)\n",
      "22799  loss(with reg):  tensor(0.0055, device='cuda:1', grad_fn=<AddBackward0>)\n",
      "22999  loss(with reg):  tensor(0.0055, device='cuda:1', grad_fn=<AddBackward0>)\n",
      "23199  loss(with reg):  tensor(0.0055, device='cuda:1', grad_fn=<AddBackward0>)\n",
      "23399  loss(with reg):  tensor(0.0054, device='cuda:1', grad_fn=<AddBackward0>)\n",
      "23599  loss(with reg):  tensor(0.0053, device='cuda:1', grad_fn=<AddBackward0>)\n",
      "23799  loss(with reg):  tensor(0.0053, device='cuda:1', grad_fn=<AddBackward0>)\n",
      "23999  loss(with reg):  tensor(0.0052, device='cuda:1', grad_fn=<AddBackward0>)\n",
      "24199  loss(with reg):  tensor(0.0051, device='cuda:1', grad_fn=<AddBackward0>)\n",
      "24399  loss(with reg):  tensor(0.0051, device='cuda:1', grad_fn=<AddBackward0>)\n",
      "24599  loss(with reg):  tensor(0.0050, device='cuda:1', grad_fn=<AddBackward0>)\n",
      "24799  loss(with reg):  tensor(0.0050, device='cuda:1', grad_fn=<AddBackward0>)\n",
      "24999  loss(with reg):  tensor(0.0049, device='cuda:1', grad_fn=<AddBackward0>)\n",
      "25199  loss(with reg):  tensor(0.0048, device='cuda:1', grad_fn=<AddBackward0>)\n",
      "25399  loss(with reg):  tensor(0.0048, device='cuda:1', grad_fn=<AddBackward0>)\n",
      "25599  loss(with reg):  tensor(0.0047, device='cuda:1', grad_fn=<AddBackward0>)\n",
      "25799  loss(with reg):  tensor(0.0047, device='cuda:1', grad_fn=<AddBackward0>)\n",
      "25999  loss(with reg):  tensor(0.0047, device='cuda:1', grad_fn=<AddBackward0>)\n",
      "26199  loss(with reg):  tensor(0.0046, device='cuda:1', grad_fn=<AddBackward0>)\n",
      "26399  loss(with reg):  tensor(0.0046, device='cuda:1', grad_fn=<AddBackward0>)\n",
      "26599  loss(with reg):  tensor(0.0046, device='cuda:1', grad_fn=<AddBackward0>)\n",
      "26799  loss(with reg):  tensor(0.0046, device='cuda:1', grad_fn=<AddBackward0>)\n",
      "26999  loss(with reg):  tensor(0.0045, device='cuda:1', grad_fn=<AddBackward0>)\n",
      "27199  loss(with reg):  tensor(0.0045, device='cuda:1', grad_fn=<AddBackward0>)\n",
      "27399  loss(with reg):  tensor(0.0045, device='cuda:1', grad_fn=<AddBackward0>)\n",
      "27599  loss(with reg):  tensor(0.0045, device='cuda:1', grad_fn=<AddBackward0>)\n",
      "27799  loss(with reg):  tensor(0.0044, device='cuda:1', grad_fn=<AddBackward0>)\n",
      "27999  loss(with reg):  tensor(0.0044, device='cuda:1', grad_fn=<AddBackward0>)\n",
      "28199  loss(with reg):  tensor(0.0044, device='cuda:1', grad_fn=<AddBackward0>)\n",
      "28399  loss(with reg):  tensor(0.0044, device='cuda:1', grad_fn=<AddBackward0>)\n",
      "28599  loss(with reg):  tensor(0.0044, device='cuda:1', grad_fn=<AddBackward0>)\n",
      "28799  loss(with reg):  tensor(0.0043, device='cuda:1', grad_fn=<AddBackward0>)\n",
      "28999  loss(with reg):  tensor(0.0043, device='cuda:1', grad_fn=<AddBackward0>)\n",
      "29199  loss(with reg):  tensor(0.0043, device='cuda:1', grad_fn=<AddBackward0>)\n",
      "29399  loss(with reg):  tensor(0.0043, device='cuda:1', grad_fn=<AddBackward0>)\n",
      "29599  loss(with reg):  tensor(0.0043, device='cuda:1', grad_fn=<AddBackward0>)\n",
      "29799  loss(with reg):  tensor(0.0043, device='cuda:1', grad_fn=<AddBackward0>)\n",
      "29999  loss(with reg):  tensor(0.0043, device='cuda:1', grad_fn=<AddBackward0>)\n",
      "30199  loss(with reg):  tensor(0.0043, device='cuda:1', grad_fn=<AddBackward0>)\n",
      "30399  loss(with reg):  tensor(0.0042, device='cuda:1', grad_fn=<AddBackward0>)\n",
      "30599  loss(with reg):  tensor(0.0042, device='cuda:1', grad_fn=<AddBackward0>)\n",
      "30799  loss(with reg):  tensor(0.0042, device='cuda:1', grad_fn=<AddBackward0>)\n",
      "30999  loss(with reg):  tensor(0.0042, device='cuda:1', grad_fn=<AddBackward0>)\n",
      "31199  loss(with reg):  tensor(0.0042, device='cuda:1', grad_fn=<AddBackward0>)\n",
      "31399  loss(with reg):  tensor(0.0042, device='cuda:1', grad_fn=<AddBackward0>)\n",
      "31599  loss(with reg):  tensor(0.0042, device='cuda:1', grad_fn=<AddBackward0>)\n",
      "31799  loss(with reg):  tensor(0.0042, device='cuda:1', grad_fn=<AddBackward0>)\n",
      "31999  loss(with reg):  tensor(0.0042, device='cuda:1', grad_fn=<AddBackward0>)\n",
      "32199  loss(with reg):  tensor(0.0042, device='cuda:1', grad_fn=<AddBackward0>)\n",
      "32399  loss(with reg):  tensor(0.0041, device='cuda:1', grad_fn=<AddBackward0>)\n",
      "32599  loss(with reg):  tensor(0.0041, device='cuda:1', grad_fn=<AddBackward0>)\n",
      "32799  loss(with reg):  tensor(0.0041, device='cuda:1', grad_fn=<AddBackward0>)\n",
      "32999  loss(with reg):  tensor(0.0041, device='cuda:1', grad_fn=<AddBackward0>)\n",
      "33199  loss(with reg):  tensor(0.0041, device='cuda:1', grad_fn=<AddBackward0>)\n",
      "33399  loss(with reg):  tensor(0.0041, device='cuda:1', grad_fn=<AddBackward0>)\n",
      "33599  loss(with reg):  tensor(0.0041, device='cuda:1', grad_fn=<AddBackward0>)\n",
      "33799  loss(with reg):  tensor(0.0041, device='cuda:1', grad_fn=<AddBackward0>)\n",
      "33999  loss(with reg):  tensor(0.0041, device='cuda:1', grad_fn=<AddBackward0>)\n",
      "34199  loss(with reg):  tensor(0.0041, device='cuda:1', grad_fn=<AddBackward0>)\n",
      "34399  loss(with reg):  tensor(0.0040, device='cuda:1', grad_fn=<AddBackward0>)\n",
      "34599  loss(with reg):  tensor(0.0040, device='cuda:1', grad_fn=<AddBackward0>)\n",
      "34799  loss(with reg):  tensor(0.0040, device='cuda:1', grad_fn=<AddBackward0>)\n",
      "34999  loss(with reg):  tensor(0.0040, device='cuda:1', grad_fn=<AddBackward0>)\n",
      "35199  loss(with reg):  tensor(0.0040, device='cuda:1', grad_fn=<AddBackward0>)\n",
      "35399  loss(with reg):  tensor(0.0040, device='cuda:1', grad_fn=<AddBackward0>)\n",
      "35599  loss(with reg):  tensor(0.0040, device='cuda:1', grad_fn=<AddBackward0>)\n",
      "35799  loss(with reg):  tensor(0.0040, device='cuda:1', grad_fn=<AddBackward0>)\n",
      "35999  loss(with reg):  tensor(0.0040, device='cuda:1', grad_fn=<AddBackward0>)\n",
      "36199  loss(with reg):  tensor(0.0040, device='cuda:1', grad_fn=<AddBackward0>)\n",
      "36399  loss(with reg):  tensor(0.0040, device='cuda:1', grad_fn=<AddBackward0>)\n",
      "36599  loss(with reg):  tensor(0.0040, device='cuda:1', grad_fn=<AddBackward0>)\n",
      "36799  loss(with reg):  tensor(0.0040, device='cuda:1', grad_fn=<AddBackward0>)\n",
      "36999  loss(with reg):  tensor(0.0040, device='cuda:1', grad_fn=<AddBackward0>)\n",
      "37199  loss(with reg):  tensor(0.0040, device='cuda:1', grad_fn=<AddBackward0>)\n",
      "37399  loss(with reg):  tensor(0.0039, device='cuda:1', grad_fn=<AddBackward0>)\n",
      "37599  loss(with reg):  tensor(0.0039, device='cuda:1', grad_fn=<AddBackward0>)\n",
      "37799  loss(with reg):  tensor(0.0039, device='cuda:1', grad_fn=<AddBackward0>)\n",
      "37999  loss(with reg):  tensor(0.0040, device='cuda:1', grad_fn=<AddBackward0>)\n",
      "38199  loss(with reg):  tensor(0.0039, device='cuda:1', grad_fn=<AddBackward0>)\n",
      "38399  loss(with reg):  tensor(0.0039, device='cuda:1', grad_fn=<AddBackward0>)\n",
      "38599  loss(with reg):  tensor(0.0039, device='cuda:1', grad_fn=<AddBackward0>)\n",
      "38799  loss(with reg):  tensor(0.0039, device='cuda:1', grad_fn=<AddBackward0>)\n",
      "38999  loss(with reg):  tensor(0.0039, device='cuda:1', grad_fn=<AddBackward0>)\n",
      "39199  loss(with reg):  tensor(0.0039, device='cuda:1', grad_fn=<AddBackward0>)\n",
      "39399  loss(with reg):  tensor(0.0039, device='cuda:1', grad_fn=<AddBackward0>)\n",
      "39599  loss(with reg):  tensor(0.0039, device='cuda:1', grad_fn=<AddBackward0>)\n",
      "39799  loss(with reg):  tensor(0.0039, device='cuda:1', grad_fn=<AddBackward0>)\n",
      "39999  loss(with reg):  tensor(0.0039, device='cuda:1', grad_fn=<AddBackward0>)\n",
      "40199  loss(with reg):  tensor(0.0039, device='cuda:1', grad_fn=<AddBackward0>)\n",
      "40399  loss(with reg):  tensor(0.0039, device='cuda:1', grad_fn=<AddBackward0>)\n",
      "40599  loss(with reg):  tensor(0.0039, device='cuda:1', grad_fn=<AddBackward0>)\n",
      "40799  loss(with reg):  tensor(0.0039, device='cuda:1', grad_fn=<AddBackward0>)\n",
      "40999  loss(with reg):  tensor(0.0038, device='cuda:1', grad_fn=<AddBackward0>)\n",
      "41199  loss(with reg):  tensor(0.0038, device='cuda:1', grad_fn=<AddBackward0>)\n",
      "41399  loss(with reg):  tensor(0.0038, device='cuda:1', grad_fn=<AddBackward0>)\n",
      "41599  loss(with reg):  tensor(0.0038, device='cuda:1', grad_fn=<AddBackward0>)\n",
      "41799  loss(with reg):  tensor(0.0038, device='cuda:1', grad_fn=<AddBackward0>)\n",
      "41999  loss(with reg):  tensor(0.0038, device='cuda:1', grad_fn=<AddBackward0>)\n",
      "42199  loss(with reg):  tensor(0.0038, device='cuda:1', grad_fn=<AddBackward0>)\n",
      "42399  loss(with reg):  tensor(0.0038, device='cuda:1', grad_fn=<AddBackward0>)\n",
      "42599  loss(with reg):  tensor(0.0038, device='cuda:1', grad_fn=<AddBackward0>)\n",
      "42799  loss(with reg):  tensor(0.0038, device='cuda:1', grad_fn=<AddBackward0>)\n",
      "42999  loss(with reg):  tensor(0.0038, device='cuda:1', grad_fn=<AddBackward0>)\n",
      "43199  loss(with reg):  tensor(0.0038, device='cuda:1', grad_fn=<AddBackward0>)\n",
      "43399  loss(with reg):  tensor(0.0038, device='cuda:1', grad_fn=<AddBackward0>)\n",
      "43599  loss(with reg):  tensor(0.0038, device='cuda:1', grad_fn=<AddBackward0>)\n",
      "43799  loss(with reg):  tensor(0.0038, device='cuda:1', grad_fn=<AddBackward0>)\n",
      "43999  loss(with reg):  tensor(0.0038, device='cuda:1', grad_fn=<AddBackward0>)\n",
      "44199  loss(with reg):  tensor(0.0038, device='cuda:1', grad_fn=<AddBackward0>)\n",
      "44399  loss(with reg):  tensor(0.0038, device='cuda:1', grad_fn=<AddBackward0>)\n",
      "44599  loss(with reg):  tensor(0.0038, device='cuda:1', grad_fn=<AddBackward0>)\n",
      "44799  loss(with reg):  tensor(0.0038, device='cuda:1', grad_fn=<AddBackward0>)\n",
      "44999  loss(with reg):  tensor(0.0038, device='cuda:1', grad_fn=<AddBackward0>)\n",
      "45199  loss(with reg):  tensor(0.0038, device='cuda:1', grad_fn=<AddBackward0>)\n",
      "45399  loss(with reg):  tensor(0.0038, device='cuda:1', grad_fn=<AddBackward0>)\n",
      "45599  loss(with reg):  tensor(0.0038, device='cuda:1', grad_fn=<AddBackward0>)\n",
      "45799  loss(with reg):  tensor(0.0038, device='cuda:1', grad_fn=<AddBackward0>)\n",
      "45999  loss(with reg):  tensor(0.0037, device='cuda:1', grad_fn=<AddBackward0>)\n",
      "46199  loss(with reg):  tensor(0.0037, device='cuda:1', grad_fn=<AddBackward0>)\n",
      "46399  loss(with reg):  tensor(0.0037, device='cuda:1', grad_fn=<AddBackward0>)\n",
      "46599  loss(with reg):  tensor(0.0037, device='cuda:1', grad_fn=<AddBackward0>)\n",
      "46799  loss(with reg):  tensor(0.0037, device='cuda:1', grad_fn=<AddBackward0>)\n",
      "46999  loss(with reg):  tensor(0.0037, device='cuda:1', grad_fn=<AddBackward0>)\n",
      "47199  loss(with reg):  tensor(0.0037, device='cuda:1', grad_fn=<AddBackward0>)\n",
      "47399  loss(with reg):  tensor(0.0037, device='cuda:1', grad_fn=<AddBackward0>)\n",
      "47599  loss(with reg):  tensor(0.0037, device='cuda:1', grad_fn=<AddBackward0>)\n",
      "47799  loss(with reg):  tensor(0.0037, device='cuda:1', grad_fn=<AddBackward0>)\n",
      "47999  loss(with reg):  tensor(0.0037, device='cuda:1', grad_fn=<AddBackward0>)\n",
      "48199  loss(with reg):  tensor(0.0037, device='cuda:1', grad_fn=<AddBackward0>)\n",
      "48399  loss(with reg):  tensor(0.0037, device='cuda:1', grad_fn=<AddBackward0>)\n",
      "48599  loss(with reg):  tensor(0.0037, device='cuda:1', grad_fn=<AddBackward0>)\n",
      "48799  loss(with reg):  tensor(0.0037, device='cuda:1', grad_fn=<AddBackward0>)\n",
      "48999  loss(with reg):  tensor(0.0037, device='cuda:1', grad_fn=<AddBackward0>)\n",
      "49199  loss(with reg):  tensor(0.0037, device='cuda:1', grad_fn=<AddBackward0>)\n",
      "49399  loss(with reg):  tensor(0.0037, device='cuda:1', grad_fn=<AddBackward0>)\n",
      "49599  loss(with reg):  tensor(0.0037, device='cuda:1', grad_fn=<AddBackward0>)\n",
      "49799  loss(with reg):  tensor(0.0037, device='cuda:1', grad_fn=<AddBackward0>)\n",
      "49999  loss(with reg):  tensor(0.0037, device='cuda:1', grad_fn=<AddBackward0>)\n",
      "50199  loss(with reg):  tensor(0.0037, device='cuda:1', grad_fn=<AddBackward0>)\n",
      "50399  loss(with reg):  tensor(0.0037, device='cuda:1', grad_fn=<AddBackward0>)\n",
      "50599  loss(with reg):  tensor(0.0037, device='cuda:1', grad_fn=<AddBackward0>)\n",
      "50799  loss(with reg):  tensor(0.0037, device='cuda:1', grad_fn=<AddBackward0>)\n",
      "50999  loss(with reg):  tensor(0.0037, device='cuda:1', grad_fn=<AddBackward0>)\n",
      "51199  loss(with reg):  tensor(0.0037, device='cuda:1', grad_fn=<AddBackward0>)\n",
      "51399  loss(with reg):  tensor(0.0037, device='cuda:1', grad_fn=<AddBackward0>)\n",
      "51599  loss(with reg):  tensor(0.0037, device='cuda:1', grad_fn=<AddBackward0>)\n",
      "51799  loss(with reg):  tensor(0.0037, device='cuda:1', grad_fn=<AddBackward0>)\n",
      "51999  loss(with reg):  tensor(0.0037, device='cuda:1', grad_fn=<AddBackward0>)\n",
      "52199  loss(with reg):  tensor(0.0037, device='cuda:1', grad_fn=<AddBackward0>)\n",
      "52399  loss(with reg):  tensor(0.0037, device='cuda:1', grad_fn=<AddBackward0>)\n",
      "52599  loss(with reg):  tensor(0.0037, device='cuda:1', grad_fn=<AddBackward0>)\n",
      "52799  loss(with reg):  tensor(0.0037, device='cuda:1', grad_fn=<AddBackward0>)\n",
      "52999  loss(with reg):  tensor(0.0037, device='cuda:1', grad_fn=<AddBackward0>)\n",
      "53199  loss(with reg):  tensor(0.0037, device='cuda:1', grad_fn=<AddBackward0>)\n",
      "53399  loss(with reg):  tensor(0.0037, device='cuda:1', grad_fn=<AddBackward0>)\n",
      "53599  loss(with reg):  tensor(0.0037, device='cuda:1', grad_fn=<AddBackward0>)\n",
      "53799  loss(with reg):  tensor(0.0037, device='cuda:1', grad_fn=<AddBackward0>)\n",
      "53999  loss(with reg):  tensor(0.0037, device='cuda:1', grad_fn=<AddBackward0>)\n",
      "54199  loss(with reg):  tensor(0.0037, device='cuda:1', grad_fn=<AddBackward0>)\n",
      "54399  loss(with reg):  tensor(0.0037, device='cuda:1', grad_fn=<AddBackward0>)\n",
      "54599  loss(with reg):  tensor(0.0037, device='cuda:1', grad_fn=<AddBackward0>)\n",
      "54799  loss(with reg):  tensor(0.0037, device='cuda:1', grad_fn=<AddBackward0>)\n",
      "54999  loss(with reg):  tensor(0.0037, device='cuda:1', grad_fn=<AddBackward0>)\n",
      "55199  loss(with reg):  tensor(0.0037, device='cuda:1', grad_fn=<AddBackward0>)\n",
      "55399  loss(with reg):  tensor(0.0037, device='cuda:1', grad_fn=<AddBackward0>)\n",
      "55599  loss(with reg):  tensor(0.0037, device='cuda:1', grad_fn=<AddBackward0>)\n",
      "55799  loss(with reg):  tensor(0.0037, device='cuda:1', grad_fn=<AddBackward0>)\n",
      "55999  loss(with reg):  tensor(0.0037, device='cuda:1', grad_fn=<AddBackward0>)\n",
      "56199  loss(with reg):  tensor(0.0037, device='cuda:1', grad_fn=<AddBackward0>)\n",
      "56399  loss(with reg):  tensor(0.0037, device='cuda:1', grad_fn=<AddBackward0>)\n",
      "56599  loss(with reg):  tensor(0.0037, device='cuda:1', grad_fn=<AddBackward0>)\n",
      "56799  loss(with reg):  tensor(0.0037, device='cuda:1', grad_fn=<AddBackward0>)\n",
      "56999  loss(with reg):  tensor(0.0037, device='cuda:1', grad_fn=<AddBackward0>)\n",
      "57199  loss(with reg):  tensor(0.0037, device='cuda:1', grad_fn=<AddBackward0>)\n",
      "57399  loss(with reg):  tensor(0.0036, device='cuda:1', grad_fn=<AddBackward0>)\n",
      "57599  loss(with reg):  tensor(0.0036, device='cuda:1', grad_fn=<AddBackward0>)\n",
      "57799  loss(with reg):  tensor(0.0036, device='cuda:1', grad_fn=<AddBackward0>)\n",
      "57999  loss(with reg):  tensor(0.0035, device='cuda:1', grad_fn=<AddBackward0>)\n",
      "58199  loss(with reg):  tensor(0.0035, device='cuda:1', grad_fn=<AddBackward0>)\n",
      "58399  loss(with reg):  tensor(0.0034, device='cuda:1', grad_fn=<AddBackward0>)\n",
      "58599  loss(with reg):  tensor(0.0034, device='cuda:1', grad_fn=<AddBackward0>)\n",
      "58799  loss(with reg):  tensor(0.0034, device='cuda:1', grad_fn=<AddBackward0>)\n",
      "58999  loss(with reg):  tensor(0.0034, device='cuda:1', grad_fn=<AddBackward0>)\n",
      "59199  loss(with reg):  tensor(0.0034, device='cuda:1', grad_fn=<AddBackward0>)\n",
      "59399  loss(with reg):  tensor(0.0034, device='cuda:1', grad_fn=<AddBackward0>)\n",
      "59599  loss(with reg):  tensor(0.0034, device='cuda:1', grad_fn=<AddBackward0>)\n",
      "59799  loss(with reg):  tensor(0.0034, device='cuda:1', grad_fn=<AddBackward0>)\n",
      "59999  loss(with reg):  tensor(0.0034, device='cuda:1', grad_fn=<AddBackward0>)\n"
     ]
    }
   ],
   "source": [
    "for i in range(20000,60000):\n",
    "    loss=loss_fn(model(circle_image), c_image)  # 计算loss\n",
    "    flows=[flows for flows in model.parameters()][0]  # 获取流场\n",
    "    loss += bending_energy(flows)  # 加上正则项\n",
    "\n",
    "    if (i + 1) % 200 == 0:\n",
    "        print(i, \" loss(with reg): \", loss)  # 打印loss\n",
    "\n",
    "    opt.zero_grad()  # 梯度清零\n",
    "    loss.backward(retain_graph=True)  # 反向传播\n",
    "    opt.step()  # 更新参数"
   ]
  },
  {
   "cell_type": "code",
   "execution_count": 10,
   "metadata": {},
   "outputs": [],
   "source": [
    "torch.save(model.state_dict(), './data/circle2C/model/train_model_name.pth')  # 保存模型"
   ]
  },
  {
   "cell_type": "code",
   "execution_count": 9,
   "metadata": {},
   "outputs": [
    {
     "data": {
      "text/plain": [
       "(tensor(0.0005, device='cuda:1', grad_fn=<MseLossBackward0>),\n",
       " tensor(1.1369, device='cuda:1'))"
      ]
     },
     "execution_count": 9,
     "metadata": {},
     "output_type": "execute_result"
    }
   ],
   "source": [
    "loss_fn(model(circle_image), c_image),loss_fn(circle_image, c_image)  # 计算loss"
   ]
  },
  {
   "cell_type": "code",
   "execution_count": 1,
   "metadata": {},
   "outputs": [
    {
     "ename": "NameError",
     "evalue": "name 'circle_image' is not defined",
     "output_type": "error",
     "traceback": [
      "\u001b[0;31m---------------------------------------------------------------------------\u001b[0m",
      "\u001b[0;31mNameError\u001b[0m                                 Traceback (most recent call last)",
      "Cell \u001b[0;32mIn[1], line 5\u001b[0m\n\u001b[1;32m      2\u001b[0m \u001b[38;5;28;01mfrom\u001b[39;00m \u001b[38;5;21;01mregister\u001b[39;00m\u001b[38;5;21;01m.\u001b[39;00m\u001b[38;5;21;01mSpatialTransformer2\u001b[39;00m \u001b[38;5;28;01mimport\u001b[39;00m SpatialTransformer2\n\u001b[1;32m      3\u001b[0m \u001b[38;5;28;01mfrom\u001b[39;00m \u001b[38;5;21;01mregister\u001b[39;00m\u001b[38;5;21;01m.\u001b[39;00m\u001b[38;5;21;01mLocalDisplacementEnergy\u001b[39;00m \u001b[38;5;28;01mimport\u001b[39;00m BendingEnergy\n\u001b[0;32m----> 5\u001b[0m model\u001b[38;5;241m=\u001b[39mSpatialTransformer2(\u001b[43mcircle_image\u001b[49m\u001b[38;5;241m.\u001b[39mshape[\u001b[38;5;241m2\u001b[39m:],\u001b[38;5;241m10\u001b[39m)  \u001b[38;5;66;03m# 生成模型\u001b[39;00m\n\u001b[1;32m      6\u001b[0m model\u001b[38;5;241m.\u001b[39mload_state_dict(torch\u001b[38;5;241m.\u001b[39mload(\u001b[38;5;124m'\u001b[39m\u001b[38;5;124m./data/circle2C/model/best_model.pth\u001b[39m\u001b[38;5;124m'\u001b[39m))  \u001b[38;5;66;03m# 加载模型\u001b[39;00m\n\u001b[1;32m      7\u001b[0m device\u001b[38;5;241m=\u001b[39mtorch\u001b[38;5;241m.\u001b[39mdevice(\u001b[38;5;124m\"\u001b[39m\u001b[38;5;124mcuda:1\u001b[39m\u001b[38;5;124m\"\u001b[39m)  \u001b[38;5;66;03m# 使用GPU\u001b[39;00m\n",
      "\u001b[0;31mNameError\u001b[0m: name 'circle_image' is not defined"
     ]
    }
   ],
   "source": [
    "import matplotlib.pyplot as plt\n",
    "from register.SpatialTransformer2 import SpatialTransformer2\n",
    "from register.LocalDisplacementEnergy import BendingEnergy\n",
    "\n",
    "model=SpatialTransformer2(circle_image.shape[2:],10)  # 生成模型\n",
    "model.load_state_dict(torch.load('./data/circle2C/model/best_model.pth'))  # 加载模型\n",
    "device=torch.device(\"cuda:1\")  # 使用GPU\n",
    "circle_image=circle_image.to(device)\n",
    "c_image=c_image.to(device)\n",
    "model=model.to(device)\n",
    "output=model(circle_image).cpu().detach().numpy().squeeze()\n",
    "output=(output-np.min(output))/(np.max(output)-np.min(output))*255\n",
    "image=Image.fromarray(output.astype(np.uint8))\n",
    "image.save('./data/circle2C/output/output.png')\n",
    "plt.imshow(output, cmap='gray')\n",
    "plt.show()"
   ]
  },
  {
   "cell_type": "code",
   "execution_count": 17,
   "metadata": {},
   "outputs": [
    {
     "data": {
      "image/png": "[encoded data removed]",
      "text/plain": [
       "<Figure size 640x480 with 2 Axes>"
      ]
     },
     "metadata": {},
     "output_type": "display_data"
    }
   ],
   "source": [
    "lattice=np.ones((32,32))\n",
    "lattice[0:32:5,:]=0\n",
    "lattice[:,0:32:5]=0\n",
    "lattice=lattice*255\n",
    "norm_lattice = z_score_normalize(torch.from_numpy(np.array(lattice)).float().unsqueeze(0).unsqueeze(0))\n",
    "warped_norm_lattice=model(norm_lattice.to(device)).squeeze().cpu().detach().numpy().squeeze()\n",
    "\n",
    "plt.subplot(1,2,1)\n",
    "plt.imshow(lattice,cmap='gray')\n",
    "\n",
    "plt.subplot(1,2,2)\n",
    "warped_norm_lattice=(warped_norm_lattice-np.min(warped_norm_lattice))/(np.max(warped_norm_lattice)-np.min(warped_norm_lattice))*255\n",
    "image=Image.fromarray(warped_norm_lattice.astype(np.uint8))\n",
    "image.save('./data/circle2C/output/warped_norm_lattice.png')\n",
    "plt.imshow(warped_norm_lattice, cmap='gray')\n",
    "plt.show()"
   ]
  },
  {
   "cell_type": "markdown",
   "metadata": {},
   "source": [
    "inverse"
   ]
  },
  {
   "cell_type": "code",
   "execution_count": 47,
   "metadata": {},
   "outputs": [
    {
     "data": {
      "text/plain": [
       "tensor(0.0104, device='cuda:1', grad_fn=<MseLossBackward0>)"
      ]
     },
     "execution_count": 47,
     "metadata": {},
     "output_type": "execute_result"
    }
   ],
   "source": [
    "from register.InverseSpatialTransformer2 import InverseSpatialTransformer2\n",
    "Inverse_model=InverseSpatialTransformer2(circle_image.shape[2:],10)\n",
    "\n",
    "device=torch.device(\"cuda:1\")\n",
    "Inverse_model.load_state_dict(torch.load('./data/circle2C/model/best_model.pth'))\n",
    "\n",
    "Inverse_model=Inverse_model.to(device)\n",
    "\n",
    "loss_fn=nn.MSELoss()\n",
    "\n",
    "inverse=Inverse_model(c_image)\n",
    "loss_fn(inverse,circle_image)\n",
    "\n"
   ]
  },
  {
   "cell_type": "code",
   "execution_count": 48,
   "metadata": {},
   "outputs": [
    {
     "data": {
      "image/png": "[encoded data removed]",
      "text/plain": [
       "<Figure size 640x480 with 1 Axes>"
      ]
     },
     "metadata": {},
     "output_type": "display_data"
    }
   ],
   "source": [
    "import matplotlib.pyplot as plt\n",
    "inverse=inverse.cpu().detach().numpy().squeeze()\n",
    "inverse=(inverse-np.min(inverse))/(np.max(inverse)-np.min(inverse))*255\n",
    "image=Image.fromarray(inverse.astype(np.uint8))\n",
    "image.save('./data/circle2C/output/inverse.png')\n",
    "plt.imshow(inverse, cmap='gray')\n",
    "plt.show()"
   ]
  }
 ],
 "metadata": {
  "kernelspec": {
   "display_name": "pytorch",
   "language": "python",
   "name": "python3"
  },
  "language_info": {
   "codemirror_mode": {
    "name": "ipython",
    "version": 3
   },
   "file_extension": ".py",
   "mimetype": "text/x-python",
   "name": "python",
   "nbconvert_exporter": "python",
   "pygments_lexer": "ipython3",
   "version": "3.8.19"
  }
 },
 "nbformat": 4,
 "nbformat_minor": 2
}
